{
 "cells": [
  {
   "cell_type": "code",
   "execution_count": 1,
   "id": "be369470",
   "metadata": {},
   "outputs": [],
   "source": [
    "data = {\n",
    "    \"data\": [\n",
    "        {\n",
    "            \"lineCode\": 1,\n",
    "            \"name\": \"دارک-میدان بزرگمهر\",\n",
    "            \"tripType\": 'null',\n",
    "            \"inboundStops\": [\n",
    "                {\n",
    "                    \"lat\": 32.72054836,\n",
    "                    \"lng\": 51.73194031,\n",
    "                    \"name\": \"دارک-157-57\",\n",
    "                    \"code\": \"3169\",\n",
    "                    \"order\": \"1\",\n",
    "                    \"direction\": \"I\",\n",
    "                    \"stopCode\": 3169\n",
    "                },\n",
    "                {\n",
    "                    \"lat\": 32.71584563,\n",
    "                    \"lng\": 51.72899307,\n",
    "                    \"name\": \"شهرک امام خميني\",\n",
    "                    \"code\": \"3170\",\n",
    "                    \"order\": \"60\",\n",
    "                    \"direction\": \"I\",\n",
    "                    \"stopCode\": 3170\n",
    "                }],\n",
    "            \"outboundStops\": [\n",
    "                {\n",
    "                    \"lat\": 32.6405642,\n",
    "                    \"lng\": 51.6934534,\n",
    "                    \"name\": \"ميدان بزرگمهر-1\",\n",
    "                    \"code\": \"1227\",\n",
    "                    \"order\": \"1\",\n",
    "                    \"direction\": \"O\",\n",
    "                    \"stopCode\": 1227\n",
    "                },\n",
    "                {\n",
    "                    \"lat\": 32.63929932,\n",
    "                    \"lng\": 51.68831069,\n",
    "                    \"name\": \"پل سپنتا\",\n",
    "                    \"code\": \"1228\",\n",
    "                    \"order\": \"52\",\n",
    "                    \"direction\": \"O\",\n",
    "                    \"stopCode\": 1228\n",
    "                }]\n",
    "        },\n",
    "                {\n",
    "            \"lineCode\": 4,\n",
    "            \"name\": \"گرکان-میدان قدس\",\n",
    "            \"tripType\": 'null',\n",
    "            \"inboundStops\": [\n",
    "                {\n",
    "                    \"lat\": 32.6936769,\n",
    "                    \"lng\": 51.72590999,\n",
    "                    \"name\": \"گرکان-4\",\n",
    "                    \"code\": \"3194\",\n",
    "                    \"order\": \"5\",\n",
    "                    \"direction\": \"I\",\n",
    "                    \"stopCode\": 3194\n",
    "                },\n",
    "                {\n",
    "                    \"lat\": 32.69463846,\n",
    "                    \"lng\": 51.72045002,\n",
    "                    \"name\": \"ميثم\",\n",
    "                    \"code\": \"3198\",\n",
    "                    \"order\": \"70\",\n",
    "                    \"direction\": \"I\",\n",
    "                    \"stopCode\": 3198\n",
    "                }\n",
    "                ],\n",
    "            \"outboundStops\": [\n",
    "                {\n",
    "                    \"lat\": 32.67849431,\n",
    "                    \"lng\": 51.69187371,\n",
    "                    \"name\": \"ميدان قدس-35-13-5-4\",\n",
    "                    \"code\": \"2566\",\n",
    "                    \"order\": \"32\",\n",
    "                    \"direction\": \"O\",\n",
    "                    \"stopCode\": 2566\n",
    "                },\n",
    "                {\n",
    "                    \"lat\": 32.67986072,\n",
    "                    \"lng\": 51.6992225,\n",
    "                    \"name\": \"چهار راه اوحدي\",\n",
    "                    \"code\": \"2568\",\n",
    "                    \"order\": \"105\",\n",
    "                    \"direction\": \"O\",\n",
    "                    \"stopCode\": 2568\n",
    "                }\n",
    "                \n",
    "            ]}]}"
   ]
  },
  {
   "cell_type": "code",
   "execution_count": 2,
   "id": "ee8c6a2f",
   "metadata": {},
   "outputs": [],
   "source": [
    "import json"
   ]
  },
  {
   "cell_type": "code",
   "execution_count": 3,
   "id": "459ba4c8",
   "metadata": {},
   "outputs": [],
   "source": [
    "def map_info(lineCode, status):\n",
    "    if status == \"inboundStops\":\n",
    "        IBStops_list = list()\n",
    "        for item in data[\"data\"]:\n",
    "            if item[\"lineCode\"] == lineCode:\n",
    "                for item1 in item[\"inboundStops\"]:\n",
    "                    my_dict = {\"lat\":item1[\"lat\"], \"lng\":item1[\"lng\"], \"stopCode\":item1[\"stopCode\"]}\n",
    "                    IBStops_list.append(my_dict)\n",
    "        return IBStops_list\n",
    "    if status == \"outboundStops\":\n",
    "        OBStops_list = list()\n",
    "        for item in data[\"data\"]:\n",
    "            if item[\"lineCode\"] == lineCode:\n",
    "                for item1 in item[\"outboundStops\"]:\n",
    "                    my_dict = {\"lat\":item1[\"lat\"], \"lng\":item1[\"lng\"], \"stopCode\":item1[\"stopCode\"]}\n",
    "                    OBStops_list.append(my_dict)\n",
    "        return OBStops_list\n",
    "        \n",
    "    if status == \"BothStops\":\n",
    "        IBStops_list = list()\n",
    "        OBStops_list = list()\n",
    "        for item in data[\"data\"]:\n",
    "            if item[\"lineCode\"] == lineCode:\n",
    "                for item1 in item[\"inboundStops\"]:\n",
    "                    my_dict = {\"lat\":item1[\"lat\"], \"lng\":item1[\"lng\"], \"stopCode\":item1[\"stopCode\"]}\n",
    "                    IBStops_list.append(my_dict)\n",
    "                for item1 in item[\"outboundStops\"]:\n",
    "                    my_dict = {\"lat\":item1[\"lat\"], \"lng\":item1[\"lng\"], \"stopCode\":item1[\"stopCode\"]}\n",
    "                    OBStops_list.append(my_dict)\n",
    "                BothStops = IBStops_list + OBStops_list\n",
    "        return BothStops\n",
    "            \n",
    "     "
   ]
  },
  {
   "cell_type": "code",
   "execution_count": 4,
   "id": "01a6a521",
   "metadata": {},
   "outputs": [
    {
     "name": "stdout",
     "output_type": "stream",
     "text": [
      "[{'lat': 32.72054836, 'lng': 51.73194031, 'stopCode': 3169}, {'lat': 32.71584563, 'lng': 51.72899307, 'stopCode': 3170}, {'lat': 32.6405642, 'lng': 51.6934534, 'stopCode': 1227}, {'lat': 32.63929932, 'lng': 51.68831069, 'stopCode': 1228}]\n"
     ]
    }
   ],
   "source": [
    "print(map_info(1, \"BothStops\"))"
   ]
  },
  {
   "cell_type": "code",
   "execution_count": 5,
   "id": "6a85f5af",
   "metadata": {},
   "outputs": [
    {
     "name": "stdout",
     "output_type": "stream",
     "text": [
      "[{'lat': 32.6936769, 'lng': 51.72590999, 'stopCode': 3194}, {'lat': 32.69463846, 'lng': 51.72045002, 'stopCode': 3198}, {'lat': 32.67849431, 'lng': 51.69187371, 'stopCode': 2566}, {'lat': 32.67986072, 'lng': 51.6992225, 'stopCode': 2568}]\n"
     ]
    }
   ],
   "source": [
    "print(map_info(4, \"BothStops\"))"
   ]
  },
  {
   "cell_type": "code",
   "execution_count": null,
   "id": "cba844a9",
   "metadata": {},
   "outputs": [],
   "source": []
  }
 ],
 "metadata": {
  "kernelspec": {
   "display_name": "Python 3 (ipykernel)",
   "language": "python",
   "name": "python3"
  },
  "language_info": {
   "codemirror_mode": {
    "name": "ipython",
    "version": 3
   },
   "file_extension": ".py",
   "mimetype": "text/x-python",
   "name": "python",
   "nbconvert_exporter": "python",
   "pygments_lexer": "ipython3",
   "version": "3.9.12"
  }
 },
 "nbformat": 4,
 "nbformat_minor": 5
}
