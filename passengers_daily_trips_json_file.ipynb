{
 "cells": [
  {
   "cell_type": "code",
   "execution_count": null,
   "id": "fa7db430",
   "metadata": {},
   "outputs": [],
   "source": [
    "import numpy as np\n",
    "import pandas as pd\n",
    "import matplotlib.pyplot as plt\n",
    "import seaborn as sns\n",
    "from warnings import filterwarnings\n",
    "filterwarnings('ignore')"
   ]
  },
  {
   "cell_type": "code",
   "execution_count": null,
   "id": "9cc22b7a",
   "metadata": {},
   "outputs": [],
   "source": [
    "pd.set_option('display.max_columns', None)\n",
    "pd.set_option('display.max_rows', None)"
   ]
  },
  {
   "cell_type": "code",
   "execution_count": null,
   "id": "5dfa7497",
   "metadata": {},
   "outputs": [],
   "source": [
    "df_Bus = pd.read_csv(r'D:\\data\\outout.csv')"
   ]
  },
  {
   "cell_type": "code",
   "execution_count": null,
   "id": "72a665e0",
   "metadata": {},
   "outputs": [],
   "source": [
    "df_Bus.info()"
   ]
  },
  {
   "cell_type": "code",
   "execution_count": null,
   "id": "ea70d2d5",
   "metadata": {},
   "outputs": [],
   "source": [
    "df_BRT = pd.read_csv(r'D:\\data\\sampBRT_good_stations.csv')"
   ]
  },
  {
   "cell_type": "code",
   "execution_count": null,
   "id": "e0fb5348",
   "metadata": {},
   "outputs": [],
   "source": [
    "df_BRT.info()"
   ]
  },
  {
   "cell_type": "code",
   "execution_count": null,
   "id": "83d8fcea",
   "metadata": {},
   "outputs": [],
   "source": [
    "df_Metro = pd.read_csv(r'D:\\data\\sampMetroReady111.csv')"
   ]
  },
  {
   "cell_type": "code",
   "execution_count": null,
   "id": "c94a3ade",
   "metadata": {},
   "outputs": [],
   "source": [
    "df_Metro.info()"
   ]
  },
  {
   "cell_type": "code",
   "execution_count": null,
   "id": "fe1c71b9",
   "metadata": {},
   "outputs": [],
   "source": [
    "df_Metro['LineCode'] = 2000"
   ]
  },
  {
   "cell_type": "code",
   "execution_count": null,
   "id": "df190348",
   "metadata": {},
   "outputs": [],
   "source": [
    "df_Metro['type'] = 'Metro'"
   ]
  },
  {
   "cell_type": "code",
   "execution_count": null,
   "id": "26c4c59e",
   "metadata": {},
   "outputs": [],
   "source": [
    "df_Metro['station'] = df_Metro['gate_id']"
   ]
  },
  {
   "cell_type": "code",
   "execution_count": null,
   "id": "01a527f1",
   "metadata": {},
   "outputs": [],
   "source": [
    "df_Metro = df_Metro.drop(['gate_id'], axis=1)"
   ]
  },
  {
   "cell_type": "code",
   "execution_count": null,
   "id": "63a668a4",
   "metadata": {},
   "outputs": [],
   "source": [
    "df_Metro = df_Metro.drop(['Unnamed: 0'], axis=1)"
   ]
  },
  {
   "cell_type": "code",
   "execution_count": null,
   "id": "63c073c2",
   "metadata": {},
   "outputs": [],
   "source": [
    "df_Bus['type'] = 'Bus'"
   ]
  },
  {
   "cell_type": "code",
   "execution_count": null,
   "id": "5acecca4",
   "metadata": {},
   "outputs": [],
   "source": [
    "df_Bus['station'] = df_Bus['stopCode']"
   ]
  },
  {
   "cell_type": "code",
   "execution_count": null,
   "id": "17e638ee",
   "metadata": {},
   "outputs": [],
   "source": [
    "df_Bus = df_Bus.drop(['stopCode'], axis=1)"
   ]
  },
  {
   "cell_type": "code",
   "execution_count": null,
   "id": "5b69efcd",
   "metadata": {},
   "outputs": [],
   "source": [
    "df_BRT['type'] = 'BRT'"
   ]
  },
  {
   "cell_type": "code",
   "execution_count": null,
   "id": "ab9f2d7f",
   "metadata": {},
   "outputs": [],
   "source": [
    "df_BRT['station'] = df_BRT['plat']"
   ]
  },
  {
   "cell_type": "code",
   "execution_count": null,
   "id": "0ac5d63e",
   "metadata": {},
   "outputs": [],
   "source": [
    "df_BRT = df_BRT.drop(['plat'], axis=1)"
   ]
  },
  {
   "cell_type": "code",
   "execution_count": null,
   "id": "7e77489a",
   "metadata": {},
   "outputs": [],
   "source": [
    "df_Bus = df_Bus.drop(['plat'], axis=1)"
   ]
  },
  {
   "cell_type": "code",
   "execution_count": null,
   "id": "29ecc47f",
   "metadata": {},
   "outputs": [],
   "source": [
    "df_Bus = df_Bus.drop(['Way'], axis=1)"
   ]
  },
  {
   "cell_type": "code",
   "execution_count": null,
   "id": "ec59dd85",
   "metadata": {},
   "outputs": [],
   "source": [
    "df = df_Bus.append(df_BRT)"
   ]
  },
  {
   "cell_type": "code",
   "execution_count": null,
   "id": "05e0a50d",
   "metadata": {},
   "outputs": [],
   "source": [
    "df_ = df.append(df_Metro)"
   ]
  },
  {
   "cell_type": "code",
   "execution_count": null,
   "id": "4938e7c8",
   "metadata": {},
   "outputs": [],
   "source": [
    "df_data = df_.reset_index(drop = True)"
   ]
  },
  {
   "cell_type": "code",
   "execution_count": null,
   "id": "9b961eec",
   "metadata": {},
   "outputs": [],
   "source": [
    "df_data.info()"
   ]
  },
  {
   "cell_type": "code",
   "execution_count": null,
   "id": "06f8e7c2",
   "metadata": {},
   "outputs": [],
   "source": [
    "json_dict = {}\n",
    "for index, row in df_data.iterrows():\n",
    "    if index % 50 == 0:\n",
    "        print((index / df.shape[0]) * 100)\n",
    "    try :\n",
    "        _ =json_dict[row[\"FDate\"]]\n",
    "        try : \n",
    "            json_dict[row[\"FDate\"]][row[\"CardID\"]].append({\"LineCode\":row[\"LineCode\"],\"Time\":row[\"Time\"], \"Station\":row[\"station\"], \"Type\":row[\"type\"]})\n",
    "        except KeyError as ke:\n",
    "            json_dict[row[\"FDate\"]][row[\"CardID\"]] = []\n",
    "            json_dict[row[\"FDate\"]][row[\"CardID\"]].append({\"LineCode\":row[\"LineCode\"],\"Time\":row[\"Time\"], \"Station\":row[\"station\"], \"Type\":row[\"type\"]})\n",
    "\n",
    "\n",
    "\n",
    "    except KeyError as ke:\n",
    "        json_dict[row[\"FDate\"]] = {}\n",
    "        try : \n",
    "            json_dict[row[\"FDate\"]][row[\"CardID\"]].append({\"LineCode\":row[\"LineCode\"],\"Time\":row[\"Time\"], \"Station\":row[\"station\"], \"Type\":row[\"type\"]})\n",
    "        except KeyError as ke:\n",
    "            json_dict[row[\"FDate\"]][row[\"CardID\"]] = []\n",
    "            json_dict[row[\"FDate\"]][row[\"CardID\"]].append({\"LineCode\":row[\"LineCode\"],\"Time\":row[\"Time\"], \"Station\":row[\"station\"], \"Type\":row[\"type\"]})\n"
   ]
  },
  {
   "cell_type": "code",
   "execution_count": null,
   "id": "eda1cc24",
   "metadata": {},
   "outputs": [],
   "source": [
    "import json"
   ]
  },
  {
   "cell_type": "code",
   "execution_count": null,
   "id": "25b81f2c",
   "metadata": {},
   "outputs": [],
   "source": [
    "with open(r'D:\\data\\sapmfinal111.json','w') as file:\n",
    "    json.dump(json_dict, file, indent = 4)"
   ]
  },
  {
   "cell_type": "code",
   "execution_count": null,
   "id": "bbd008d1",
   "metadata": {},
   "outputs": [],
   "source": []
  }
 ],
 "metadata": {
  "kernelspec": {
   "display_name": "Python 3 (ipykernel)",
   "language": "python",
   "name": "python3"
  },
  "language_info": {
   "codemirror_mode": {
    "name": "ipython",
    "version": 3
   },
   "file_extension": ".py",
   "mimetype": "text/x-python",
   "name": "python",
   "nbconvert_exporter": "python",
   "pygments_lexer": "ipython3",
   "version": "3.9.12"
  }
 },
 "nbformat": 4,
 "nbformat_minor": 5
}
